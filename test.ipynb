{
 "cells": [
  {
   "cell_type": "code",
   "execution_count": 2,
   "metadata": {},
   "outputs": [],
   "source": [
    "import MySQLdb\n",
    "from selenium import webdriver"
   ]
  },
  {
   "cell_type": "code",
   "execution_count": 3,
   "metadata": {},
   "outputs": [],
   "source": [
    "conn = MySQLdb.connect(host=\"127.0.0.1\",\n",
    "                       user=\"hj\",\n",
    "                       passwd=\"test1234\",\n",
    "                       db=\"testdb\")"
   ]
  },
  {
   "cell_type": "code",
   "execution_count": 12,
   "metadata": {
    "scrolled": true
   },
   "outputs": [
    {
     "name": "stdout",
     "output_type": "stream",
     "text": [
      "1000\n",
      "SYSTEM PROGRAMMING\n",
      "Department of Information Engineering and Computer Science\n",
      "3\n"
     ]
    }
   ],
   "source": [
    "my_head = \"SYSTEM PROGRAMMING\"\n",
    "#query = \"SELECT course_name FROM course where course_name LIKE '{}%';\".format(my_head)\n",
    "query = \"SELECT * FROM course\"\n",
    "cursor = conn.cursor()\n",
    "cursor.execute(query)\n",
    "\n",
    "results = cursor.fetchall()\n",
    "for i in range(len(results[0])):\n",
    "    print(results[0][i])\n",
    "    \n",
    "conn.close()"
   ]
  },
  {
   "cell_type": "code",
   "execution_count": 23,
   "metadata": {},
   "outputs": [
    {
     "name": "stdout",
     "output_type": "stream",
     "text": [
      "SYSTEM PROGRAMMING\n"
     ]
    }
   ],
   "source": [
    "conn = MySQLdb.connect(host=\"127.0.0.1\",\n",
    "                       user=\"hj\",\n",
    "                       passwd=\"test1234\",\n",
    "                       db=\"testdb\")\n",
    "\n",
    "query = \"SELECT coursename FROM course where courseID LIKE 1000;\"\n",
    "cursor = conn.cursor()\n",
    "cursor.execute(query)\n",
    "results = cursor.fetchall()\n",
    "for i in range(len(results[0])):\n",
    "    print(results[0][i])\n",
    "    \n",
    "conn.close()"
   ]
  },
  {
   "cell_type": "code",
   "execution_count": null,
   "metadata": {},
   "outputs": [],
   "source": []
  },
  {
   "cell_type": "code",
   "execution_count": null,
   "metadata": {},
   "outputs": [],
   "source": []
  },
  {
   "cell_type": "code",
   "execution_count": null,
   "metadata": {},
   "outputs": [],
   "source": []
  },
  {
   "cell_type": "code",
   "execution_count": 4,
   "metadata": {},
   "outputs": [],
   "source": [
    "#create table\n",
    "conn = MySQLdb.connect(host=\"127.0.0.1\",\n",
    "                       user=\"hj\",\n",
    "                       passwd=\"test1234\",\n",
    "                       db=\"testdb\")\n",
    "cur = conn.cursor()\n",
    "cur.execute(\"\"\"CREATE TABLE student(ID int NOT NULL UNIQUE,\n",
    "                                    name varchar(20) NOT NULL,\n",
    "                                    department varchar(30),\n",
    "                                    sex varchar(10),\n",
    "                                    tot_credits int)\"\"\")\n",
    "conn.close()"
   ]
  },
  {
   "cell_type": "code",
   "execution_count": 4,
   "metadata": {},
   "outputs": [],
   "source": [
    "#create table(course)\n",
    "conn = MySQLdb.connect(host=\"127.0.0.1\",\n",
    "                       user=\"hj\",\n",
    "                       passwd=\"test1234\",\n",
    "                       db=\"testdb\")\n",
    "cur = conn.cursor()\n",
    "cur.execute(\"\"\"CREATE TABLE course(courseID int NOT NULL UNIQUE,\n",
    "                                   coursename varchar(50) NOT NULL,\n",
    "                                   department varchar(100),\n",
    "                                   credits int,\n",
    "                                   required_or_elective varchar(20),\n",
    "                                   time varchar(50),\n",
    "                                   classroomID int)\"\"\")\n",
    "conn.close()"
   ]
  },
  {
   "cell_type": "code",
   "execution_count": 19,
   "metadata": {},
   "outputs": [],
   "source": [
    "#create table(user)\n",
    "conn = MySQLdb.connect(host=\"127.0.0.1\",\n",
    "                       user=\"hj\",\n",
    "                       passwd=\"test1234\",\n",
    "                       db=\"testdb\")\n",
    "cur = conn.cursor()\n",
    "cur.execute(\"\"\"CREATE TABLE aaa(courseID int NOT NULL UNIQUE);\"\"\")\n",
    "#create table users ( id int not null auto_increment, name varchar(20) not null, email varchar(20) not null, password char(80) not null, primary key (id) );\n",
    "conn.close()"
   ]
  },
  {
   "cell_type": "code",
   "execution_count": 5,
   "metadata": {},
   "outputs": [],
   "source": [
    "#create table(user)\n",
    "conn = MySQLdb.connect(host=\"127.0.0.1\",\n",
    "                       user=\"hj\",\n",
    "                       passwd=\"test1234\",\n",
    "                       db=\"testdb\")\n",
    "cur = conn.cursor()\n",
    "newuser_time = \"CREATE TABLE \" + \"bbb\" + \"_time (time int NOT NULL UNIQUE);\"\n",
    "cur.execute(newuser_time)\n",
    "conn.close()"
   ]
  },
  {
   "cell_type": "code",
   "execution_count": 4,
   "metadata": {},
   "outputs": [],
   "source": [
    "#create table(classroom)\n",
    "conn = MySQLdb.connect(host=\"127.0.0.1\",\n",
    "                       user=\"hj\",\n",
    "                       passwd=\"test1234\",\n",
    "                       db=\"testdb\")\n",
    "cur = conn.cursor()\n",
    "cur.execute(\"\"\"CREATE TABLE classroom(classroomID int NOT NULL UNIQUE,\n",
    "                                      capacity int);\"\"\")\n",
    "#create table users ( id int not null auto_increment, name varchar(20) not null, email varchar(20) not null, password char(80) not null, primary key (id) );\n",
    "conn.close()"
   ]
  },
  {
   "cell_type": "code",
   "execution_count": 34,
   "metadata": {},
   "outputs": [],
   "source": [
    "#insert data into table\n",
    "#if you want to insert somthing into table, don't forget conn.commit()\n",
    "#then you can insert successively\n",
    "\n",
    "conn = MySQLdb.connect(host=\"127.0.0.1\",\n",
    "                       user=\"hj\",\n",
    "                       passwd=\"test1234\",\n",
    "                       db=\"testdb\")\n",
    "cur = conn.cursor()\n",
    "cur.execute(\"\"\"INSERT INTO student(ID, name, department, sex, tot_credits)\n",
    "               VALUES('0001',\n",
    "                      'Wendy',\n",
    "                      'Information Engineering and Computer Science',\n",
    "                      'female',\n",
    "                      '0')\"\"\")\n",
    "conn.commit()\n",
    "conn.close()"
   ]
  },
  {
   "cell_type": "code",
   "execution_count": 5,
   "metadata": {},
   "outputs": [],
   "source": [
    "#insert data into classroom\n",
    "conn = MySQLdb.connect(host=\"127.0.0.1\",\n",
    "                       user=\"hj\",\n",
    "                       passwd=\"test1234\",\n",
    "                       db=\"testdb\")\n",
    "cur = conn.cursor()\n",
    "cur.execute(\"\"\"INSERT INTO classroom(classroomID, capacity)\n",
    "               VALUES('303', '2')\"\"\")\n",
    "cur.execute(\"\"\"INSERT INTO classroom(classroomID, capacity)\n",
    "               VALUES('204', '1')\"\"\")\n",
    "cur.execute(\"\"\"INSERT INTO classroom(classroomID, capacity)\n",
    "               VALUES('104', '3')\"\"\")\n",
    "cur.execute(\"\"\"INSERT INTO classroom(classroomID, capacity)\n",
    "               VALUES('405', '5')\"\"\")\n",
    "conn.commit()\n",
    "conn.close()"
   ]
  },
  {
   "cell_type": "code",
   "execution_count": 3,
   "metadata": {},
   "outputs": [],
   "source": [
    "#insert data into classroom(part2)\n",
    "conn = MySQLdb.connect(host=\"127.0.0.1\",\n",
    "                       user=\"hj\",\n",
    "                       passwd=\"test1234\",\n",
    "                       db=\"testdb\")\n",
    "cur = conn.cursor()\n",
    "cur.execute(\"\"\"INSERT INTO classroom(classroomID, capacity)\n",
    "               VALUES('102', '2')\"\"\")\n",
    "cur.execute(\"\"\"INSERT INTO classroom(classroomID, capacity)\n",
    "               VALUES('402', '1')\"\"\")\n",
    "conn.commit()\n",
    "conn.close()"
   ]
  },
  {
   "cell_type": "code",
   "execution_count": 5,
   "metadata": {},
   "outputs": [],
   "source": [
    "conn = MySQLdb.connect(host=\"127.0.0.1\",\n",
    "                       user=\"hj\",\n",
    "                       passwd=\"test1234\",\n",
    "                       db=\"testdb\")\n",
    "cur = conn.cursor()\n",
    "cur.execute(\"\"\"INSERT INTO course(courseID, coursename, department, credits, required_or_elective, time, classroomID)\n",
    "               VALUES('1000',\n",
    "                      'SYSTEM PROGRAMMING',\n",
    "                      'Department of Information Engineering and Computer Science',\n",
    "                      '3',\n",
    "                      'Required',\n",
    "                      'Mon-02-03-04',\n",
    "                      '303')\"\"\")\n",
    "cur.execute(\"\"\"INSERT INTO course(courseID, coursename, department, credits, required_or_elective, time, classroomID)\n",
    "               VALUES('1001',\n",
    "                      'DATABASE SYSTEMS',\n",
    "                      'Department of Information Engineering and Computer Science',\n",
    "                      '3',\n",
    "                      'Required',\n",
    "                      'Thu-06-07-08',\n",
    "                      '204')\"\"\")\n",
    "cur.execute(\"\"\"INSERT INTO course(courseID, coursename, department, credits, required_or_elective, time, classroomID)\n",
    "               VALUES('1002',\n",
    "                      'PROBABILITY AND STATISTICS',\n",
    "                      'Department of Information Engineering and Computer Science',\n",
    "                      '3',\n",
    "                      'Required',\n",
    "                      'Tue-02-03-04',\n",
    "                      '104')\"\"\")\n",
    "cur.execute(\"\"\"INSERT INTO course(courseID, coursename, department, credits, required_or_elective, time, classroomID)\n",
    "               VALUES('1003',\n",
    "                      'COMBINATIONAL MATHEMATICS',\n",
    "                      'Department of Information Engineering and Computer Science',\n",
    "                      '3',\n",
    "                      'Elective',\n",
    "                      'Tue-02-03-04',\n",
    "                      '405')\"\"\")\n",
    "conn.commit()\n",
    "conn.close()"
   ]
  },
  {
   "cell_type": "code",
   "execution_count": 6,
   "metadata": {},
   "outputs": [],
   "source": [
    "#insert data(part2)\n",
    "conn = MySQLdb.connect(host=\"127.0.0.1\",\n",
    "                       user=\"hj\",\n",
    "                       passwd=\"test1234\",\n",
    "                       db=\"testdb\")\n",
    "cur = conn.cursor()\n",
    "cur.execute(\"\"\"INSERT INTO course(courseID, coursename, department, credits, required_or_elective, time, classroomID)\n",
    "               VALUES('1004',\n",
    "                      'LINEAR ALGEBRA',\n",
    "                      'Department of Information Engineering and Computer Science',\n",
    "                      '3',\n",
    "                      'Required',\n",
    "                      'Tue-01-02-03',\n",
    "                      '303')\"\"\")\n",
    "cur.execute(\"\"\"INSERT INTO course(courseID, coursename, department, credits, required_or_elective, time, classroomID)\n",
    "               VALUES('1005',\n",
    "                      'GENERAL PHYSICS - ELECTRIC, MAGNETIC, OPTICS LAB.',\n",
    "                      'Department of Information Engineering and Computer Science',\n",
    "                      '1',\n",
    "                      'Required',\n",
    "                      'Wed-02-03-04',\n",
    "                      '405')\"\"\")\n",
    "cur.execute(\"\"\"INSERT INTO course(courseID, coursename, department, credits, required_or_elective, time, classroomID)\n",
    "               VALUES('1006',\n",
    "                      'CALCULUS(2)',\n",
    "                      'Department of Information Engineering and Computer Science',\n",
    "                      '3',\n",
    "                      'Required',\n",
    "                      'Wed-06-07-08',\n",
    "                      '405')\"\"\")\n",
    "cur.execute(\"\"\"INSERT INTO course(courseID, coursename, department, credits, required_or_elective, time, classroomID)\n",
    "               VALUES('1007',\n",
    "                      'UNIX APPLICATIONS AND PRACTICES',\n",
    "                      'Department of Information Engineering and Computer Science',\n",
    "                      '2',\n",
    "                      'Elective',\n",
    "                      'Thu-09-10',\n",
    "                      '405')\"\"\")\n",
    "cur.execute(\"\"\"INSERT INTO course(courseID, coursename, department, credits, required_or_elective, time, classroomID)\n",
    "               VALUES('1008',\n",
    "                      'ELECTRICAL ENGINEERING',\n",
    "                      'Department of Mechanical and Computer-Aided Engineering',\n",
    "                      '3',\n",
    "                      'Required',\n",
    "                      'Tue-02-03-04',\n",
    "                      '204')\"\"\")\n",
    "cur.execute(\"\"\"INSERT INTO course(courseID, coursename, department, credits, required_or_elective, time, classroomID)\n",
    "               VALUES('1009',\n",
    "                      'ORGANIC CHEMISTRY(1)',\n",
    "                      'Department of Fiber and Composite Materials',\n",
    "                      '3',\n",
    "                      'Required',\n",
    "                      'Mon-02-03-04',\n",
    "                      '405')\"\"\")\n",
    "conn.commit()\n",
    "conn.close()"
   ]
  },
  {
   "cell_type": "code",
   "execution_count": 7,
   "metadata": {},
   "outputs": [],
   "source": [
    "#insert data(part3)\n",
    "conn = MySQLdb.connect(host=\"127.0.0.1\",\n",
    "                       user=\"hj\",\n",
    "                       passwd=\"test1234\",\n",
    "                       db=\"testdb\")\n",
    "cur = conn.cursor()\n",
    "cur.execute(\"\"\"INSERT INTO course(courseID, coursename, department, credits, required_or_elective, time, classroomID)\n",
    "               VALUES('1010',\n",
    "                      'E-COMMERCE SECURITY',\n",
    "                      'Department of Information Engineering and Computer Science',\n",
    "                      '3',\n",
    "                      'Elective',\n",
    "                      'Wed-11-12-13',\n",
    "                      '405')\"\"\")\n",
    "cur.execute(\"\"\"INSERT INTO course(courseID, coursename, department, credits, required_or_elective, time, classroomID)\n",
    "               VALUES('1011',\n",
    "                      'INTRODUCTION TO DIGITAL SIGNAL PROCESSING',\n",
    "                      'Department of Information Engineering and Computer Science',\n",
    "                      '3',\n",
    "                      'Elective',\n",
    "                      'Mon-08-09-10',\n",
    "                      '303')\"\"\")\n",
    "cur.execute(\"\"\"INSERT INTO course(courseID, coursename, department, credits, required_or_elective, time, classroomID)\n",
    "               VALUES('1012',\n",
    "                      'SYSTEM SECURITY',\n",
    "                      'Department of Information Engineering and Computer Science',\n",
    "                      '3',\n",
    "                      'Elective',\n",
    "                      'Wed-10-Thu-03-04',\n",
    "                      '104')\"\"\")\n",
    "cur.execute(\"\"\"INSERT INTO course(courseID, coursename, department, credits, required_or_elective, time, classroomID)\n",
    "               VALUES('1013',\n",
    "                      'PROGRAMMING LANGUAGE',\n",
    "                      'Department of Information Engineering and Computer Science',\n",
    "                      '3',\n",
    "                      'Elective',\n",
    "                      'Mon-02-03-04',\n",
    "                      '104')\"\"\")\n",
    "conn.commit()\n",
    "conn.close()"
   ]
  },
  {
   "cell_type": "code",
   "execution_count": 4,
   "metadata": {},
   "outputs": [],
   "source": [
    "#insert data(part4)\n",
    "conn = MySQLdb.connect(host=\"127.0.0.1\",\n",
    "                       user=\"hj\",\n",
    "                       passwd=\"test1234\",\n",
    "                       db=\"testdb\")\n",
    "cur = conn.cursor()\n",
    "cur.execute(\"\"\"INSERT INTO course(courseID, coursename, department, credits, required_or_elective, time, classroomID)\n",
    "               VALUES('1014',\n",
    "                      'ENGINEERING MATHEMATICS(2)',\n",
    "                      'Department of Electrical Engineering',\n",
    "                      '3',\n",
    "                      'Required',\n",
    "                      'Tue-01-02-03',\n",
    "                      '102')\"\"\")\n",
    "cur.execute(\"\"\"INSERT INTO course(courseID, coursename, department, credits, required_or_elective, time, classroomID)\n",
    "               VALUES('1015',\n",
    "                      'SIGNALS AND SYSTEMS',\n",
    "                      'Department of Electrical Engineering',\n",
    "                      '3',\n",
    "                      'Required',\n",
    "                      'Mon-03-04-05',\n",
    "                      '402')\"\"\")\n",
    "cur.execute(\"\"\"INSERT INTO course(courseID, coursename, department, credits, required_or_elective, time, classroomID)\n",
    "               VALUES('1016',\n",
    "                      'ELECTRONICS(2)',\n",
    "                      'Department of Electrical Engineering',\n",
    "                      '3',\n",
    "                      'Required',\n",
    "                      'Mon-05-06-07',\n",
    "                      '102')\"\"\")\n",
    "cur.execute(\"\"\"INSERT INTO course(courseID, coursename, department, credits, required_or_elective, time, classroomID)\n",
    "               VALUES('1017',\n",
    "                      'PELECTRONICS LAB.(2)',\n",
    "                      'Department of Electrical Engineering',\n",
    "                      '3',\n",
    "                      'Required',\n",
    "                      'Tue-02-03-04',\n",
    "                      '102')\"\"\")\n",
    "cur.execute(\"\"\"INSERT INTO course(courseID, coursename, department, credits, required_or_elective, time, classroomID)\n",
    "               VALUES('1018',\n",
    "                      'ACCOUNTING(2)',\n",
    "                      'Department of Accounting',\n",
    "                      '3',\n",
    "                      'Required',\n",
    "                      'Tue-06-07-08',\n",
    "                      '102')\"\"\")\n",
    "cur.execute(\"\"\"INSERT INTO course(courseID, coursename, department, credits, required_or_elective, time, classroomID)\n",
    "               VALUES('1019',\n",
    "                      'COMPANY ACT & NEGOTIABLE INSTRUMENTS ACT',\n",
    "                      'Department of Accounting',\n",
    "                      '3',\n",
    "                      'Elective',\n",
    "                      'Wed-11-12-13',\n",
    "                      '102')\"\"\")\n",
    "cur.execute(\"\"\"INSERT INTO course(courseID, coursename, department, credits, required_or_elective, time, classroomID)\n",
    "               VALUES('1020',\n",
    "                      'INVESTMENTS',\n",
    "                      'Department of Accounting',\n",
    "                      '3',\n",
    "                      'Elective',\n",
    "                      'Fri-02-03-04',\n",
    "                      '402')\"\"\")\n",
    "conn.commit()\n",
    "conn.close()"
   ]
  },
  {
   "cell_type": "code",
   "execution_count": 11,
   "metadata": {},
   "outputs": [],
   "source": [
    "#delete table\n",
    "conn = MySQLdb.connect(host=\"127.0.0.1\",\n",
    "                       user=\"hj\",\n",
    "                       passwd=\"test1234\",\n",
    "                       db=\"testdb\")\n",
    "cur = conn.cursor()\n",
    "cur.execute(\"DROP TABLE zzz\")\n",
    "conn.close()"
   ]
  },
  {
   "cell_type": "code",
   "execution_count": null,
   "metadata": {},
   "outputs": [],
   "source": []
  },
  {
   "cell_type": "code",
   "execution_count": null,
   "metadata": {},
   "outputs": [],
   "source": []
  },
  {
   "cell_type": "code",
   "execution_count": null,
   "metadata": {},
   "outputs": [],
   "source": []
  },
  {
   "cell_type": "code",
   "execution_count": null,
   "metadata": {},
   "outputs": [],
   "source": []
  },
  {
   "cell_type": "code",
   "execution_count": 23,
   "metadata": {},
   "outputs": [
    {
     "name": "stdout",
     "output_type": "stream",
     "text": [
      "y\n",
      "('Required',)\n"
     ]
    }
   ],
   "source": [
    "conn = MySQLdb.connect(host=\"127.0.0.1\",\n",
    "                       user=\"hj\",\n",
    "                       passwd=\"test1234\",\n",
    "                       db=\"testdb\")\n",
    "query = \"SELECT required_or_elective FROM COURSE WHERE courseID LIKE 1000\"\n",
    "cursor = conn.cursor()\n",
    "cursor.execute(query)\n",
    "\n",
    "results = cursor.fetchall()\n",
    "if results[0][0] == \"Required\":\n",
    "    print(\"y\")\n",
    "for i in range(len(results[0])):\n",
    "    print(results[i])\n",
    "    \n",
    "conn.close()"
   ]
  },
  {
   "cell_type": "code",
   "execution_count": null,
   "metadata": {},
   "outputs": [],
   "source": []
  },
  {
   "cell_type": "code",
   "execution_count": 12,
   "metadata": {},
   "outputs": [
    {
     "name": "stdout",
     "output_type": "stream",
     "text": [
      "SELECT capacity FROM classroom WHERE classroomID=(\n",
      "           SELECT classroomID FROM course WHERE courseID=1000)\n",
      "((2,),)\n"
     ]
    }
   ],
   "source": [
    "conn = MySQLdb.connect(host=\"127.0.0.1\",\n",
    "                       user=\"hj\",\n",
    "                       passwd=\"test1234\",\n",
    "                       db=\"testdb\")\n",
    "# roomid = \"104\"\n",
    "# query = \"\"\"SELECT capacity FROM classroom WHERE classroomID=\"\"\" + roomid\n",
    "query = \"\"\"SELECT capacity FROM classroom WHERE classroomID=(\n",
    "           SELECT classroomID FROM course WHERE courseID=\"\"\" + \"1000\" + \")\"\n",
    "print(query)\n",
    "cursor = conn.cursor()\n",
    "cursor.execute(query)\n",
    "cursor = cursor.fetchall()\n",
    "print(cursor)"
   ]
  },
  {
   "cell_type": "code",
   "execution_count": null,
   "metadata": {},
   "outputs": [],
   "source": [
    "conn = MySQLdb.connect(host=\"127.0.0.1\",\n",
    "                       user=\"hj\",\n",
    "                       passwd=\"test1234\",\n",
    "                       db=\"testdb\")\n",
    "# roomid = \"104\"\n",
    "# query = \"\"\"SELECT capacity FROM classroom WHERE classroomID=\"\"\" + roomid\n",
    "query = \"\"\"SELECT capacity FROM classroom WHERE classroomID=(\n",
    "           SELECT classroomID FROM course WHERE courseID=\"\"\" + \"1000\" + \")\"\n",
    "print(query)\n",
    "cursor = conn.cursor()\n",
    "cursor.execute(query)\n",
    "cursor = cursor.fetchall()\n",
    "print(cursor)"
   ]
  },
  {
   "cell_type": "code",
   "execution_count": 23,
   "metadata": {},
   "outputs": [
    {
     "name": "stdout",
     "output_type": "stream",
     "text": [
      "SELECT name FROM users;\n",
      "(('aaa',), ('bbb',))\n"
     ]
    }
   ],
   "source": [
    "conn = MySQLdb.connect(host=\"127.0.0.1\",\n",
    "                       user=\"hj\",\n",
    "                       passwd=\"test1234\",\n",
    "                       db=\"testdb\")\n",
    "\n",
    "courseid = \"1000\"\n",
    "query = \"\"\"SELECT name FROM users;\"\"\"\n",
    "print(query)\n",
    "cursor = conn.cursor()\n",
    "cursor.execute(query)\n",
    "cursor = cursor.fetchall()\n",
    "print(cursor)"
   ]
  },
  {
   "cell_type": "code",
   "execution_count": 37,
   "metadata": {},
   "outputs": [
    {
     "name": "stdout",
     "output_type": "stream",
     "text": [
      "aaa\n",
      "SELECT courseID FROM aaa;\n",
      "((1001,), (1003,))\n",
      "[1001, 1003]\n",
      "bbb\n",
      "SELECT courseID FROM bbb;\n",
      "((1000,), (1001,))\n",
      "[1000, 1001]\n",
      "1\n"
     ]
    }
   ],
   "source": [
    "count = 0\n",
    "for i in range(len(cursor)):\n",
    "    ans = []\n",
    "    print(cursor[i][0])\n",
    "    query2 = \"SELECT courseID FROM \" + cursor[i][0] + \";\"\n",
    "    print(query2)\n",
    "    cursor1 = conn.cursor()\n",
    "    cursor1.execute(query2)\n",
    "    arr = cursor1.fetchall()\n",
    "    print(arr)\n",
    "    for j in range(len(arr)):\n",
    "        ans.append(arr[j][0])\n",
    "    if int(courseid) in ans:\n",
    "        count+=1\n",
    "    print(ans)\n",
    "print(count)"
   ]
  },
  {
   "cell_type": "code",
   "execution_count": 48,
   "metadata": {},
   "outputs": [
    {
     "name": "stdout",
     "output_type": "stream",
     "text": [
      "((1002,), (1003,))\n"
     ]
    }
   ],
   "source": [
    "conn = MySQLdb.connect(host=\"127.0.0.1\",\n",
    "                       user=\"hj\",\n",
    "                       passwd=\"test1234\",\n",
    "                       db=\"testdb\")\n",
    "\n",
    "query = \"\"\"SELECT courseID FROM aaa;\"\"\"\n",
    "cursor = conn.cursor()\n",
    "cursor.execute(query)\n",
    "cursor = cursor.fetchall()\n",
    "print(cursor)"
   ]
  },
  {
   "cell_type": "code",
   "execution_count": 52,
   "metadata": {},
   "outputs": [
    {
     "name": "stdout",
     "output_type": "stream",
     "text": [
      "SELECT courseID FROM aaa;\n",
      "((3,),)\n",
      "SELECT courseID FROM aaa;\n",
      "((3,),)\n",
      "6\n",
      "SELECT credits FROM course WHERE courseID LIKE 1000;\n",
      "((3,),)\n",
      "9\n"
     ]
    }
   ],
   "source": [
    "tot_credits = 0\n",
    "for i in range(len(cursor)):\n",
    "    zzz = \"SELECT credits FROM course WHERE courseID LIKE \" + str(cursor[i][0]) + \";\"\n",
    "    print(query)\n",
    "    n = conn.cursor()\n",
    "    n.execute(zzz)\n",
    "    ans = n.fetchall()\n",
    "    print(ans)\n",
    "    tot_credits+=ans[0][0]\n",
    "print(tot_credits)\n",
    "xxx = \"SELECT credits FROM course WHERE courseID LIKE \" + \"1000\" + \";\"\n",
    "print(xxx)\n",
    "m = conn.cursor()\n",
    "m.execute(xxx)\n",
    "asd = m.fetchall()\n",
    "print(asd)\n",
    "tot_credits+=asd[0][0]\n",
    "print(tot_credits)"
   ]
  },
  {
   "cell_type": "code",
   "execution_count": 59,
   "metadata": {},
   "outputs": [
    {
     "name": "stdout",
     "output_type": "stream",
     "text": [
      "((1000,), (1001,))\n"
     ]
    }
   ],
   "source": [
    "conn = MySQLdb.connect(host=\"127.0.0.1\",\n",
    "                       user=\"hj\",\n",
    "                       passwd=\"test1234\",\n",
    "                       db=\"testdb\")\n",
    "query1 = \"SELECT courseID FROM \" + \"bbb\"\n",
    "qq = conn.cursor()\n",
    "qq.execute(query1)\n",
    "ww = qq.fetchall()\n",
    "print(ww)"
   ]
  },
  {
   "cell_type": "code",
   "execution_count": 66,
   "metadata": {},
   "outputs": [
    {
     "name": "stdout",
     "output_type": "stream",
     "text": [
      "SELECT coursename FROM course WHERE courseID LIKE 1000;\n",
      "(('SYSTEM PROGRAMMING',),)\n",
      "SELECT coursename FROM course WHERE courseID LIKE 1001;\n",
      "(('DATABASE SYSTEMS',),)\n",
      "['SYSTEM PROGRAMMING', 'DATABASE SYSTEMS']\n"
     ]
    }
   ],
   "source": [
    "course_name = []\n",
    "for i in range(len(ww)):\n",
    "    query2 = \"SELECT coursename FROM course WHERE courseID LIKE \" + str(ww[i][0]) + \";\"\n",
    "    print(query2)\n",
    "    ee = conn.cursor()\n",
    "    ee.execute(query2)\n",
    "    rr = ee.fetchall()\n",
    "    course_name.append(rr[0][0])\n",
    "    \n",
    "print(course_name)"
   ]
  },
  {
   "cell_type": "code",
   "execution_count": 38,
   "metadata": {},
   "outputs": [
    {
     "name": "stdout",
     "output_type": "stream",
     "text": [
      "('Mon-08-09-10',)\n",
      "['Mon', '08', '09', '10']\n",
      "((1003,), (1004,), (1009,), (1010,))\n"
     ]
    }
   ],
   "source": [
    "conn = MySQLdb.connect(host=\"127.0.0.1\",\n",
    "                       user=\"hj\",\n",
    "                       passwd=\"test1234\",\n",
    "                       db=\"testdb\")\n",
    "courseid = \"1011\"\n",
    "aaaa = conn.cursor()\n",
    "aaaa.execute(\"SELECT time FROM course WHERE courseid LIKE \" + courseid + \";\")\n",
    "aaans = aaaa.fetchall()\n",
    "print(aaans[0])\n",
    "temp = aaans[0][0].split('-')\n",
    "print(temp)\n",
    "rrr = \"SELECT courseID FROM \" + \"aaa\" + \";\"\n",
    "qq.execute(rrr)\n",
    "nn = qq.fetchall()\n",
    "print(nn)"
   ]
  },
  {
   "cell_type": "code",
   "execution_count": 6,
   "metadata": {},
   "outputs": [
    {
     "name": "stdout",
     "output_type": "stream",
     "text": [
      "((1004,), (1009,), (1010,), (1011,), (1012,))\n",
      "['Tue-01-02-03', 'Mon-02-03-04', 'Wed-11-12-13', 'Mon-08-09-10', 'Wed-02-03-04']\n"
     ]
    }
   ],
   "source": [
    "conn = MySQLdb.connect(host=\"127.0.0.1\",\n",
    "                       user=\"hj\",\n",
    "                       passwd=\"test1234\",\n",
    "                       db=\"testdb\")\n",
    "qq = conn.cursor()\n",
    "rrr = \"SELECT courseID FROM \" + \"aaa\" + \";\"\n",
    "qq.execute(rrr)\n",
    "nn = qq.fetchall()\n",
    "print(nn)\n",
    "\n",
    "anslist = []\n",
    "for i in range(len(nn)):\n",
    "    pp = \"SELECT time FROM course WHERE courseid LIKE \" + str(nn[i][0]) + \";\"\n",
    "    oo = conn.cursor()\n",
    "    oo.execute(pp)\n",
    "    anss = oo.fetchall()\n",
    "    anslist.append(anss[0][0])\n",
    "print(anslist)"
   ]
  },
  {
   "cell_type": "code",
   "execution_count": 40,
   "metadata": {},
   "outputs": [
    {
     "name": "stdout",
     "output_type": "stream",
     "text": [
      "['Mon', '08', '09', '10']\n"
     ]
    }
   ],
   "source": [
    "for i in range(len(anslist)):\n",
    "    tp = anslist[i].split('-')\n",
    "    if temp[0] == tp[0]:\n",
    "        print(temp)\n",
    "        for j in range(1, len(temp)):\n",
    "            if temp[j] in tp:\n",
    "                print(\"error\")\n",
    "                break;"
   ]
  },
  {
   "cell_type": "code",
   "execution_count": null,
   "metadata": {},
   "outputs": [],
   "source": []
  },
  {
   "cell_type": "code",
   "execution_count": null,
   "metadata": {},
   "outputs": [],
   "source": []
  },
  {
   "cell_type": "code",
   "execution_count": null,
   "metadata": {},
   "outputs": [],
   "source": []
  },
  {
   "cell_type": "code",
   "execution_count": null,
   "metadata": {},
   "outputs": [],
   "source": []
  },
  {
   "cell_type": "code",
   "execution_count": null,
   "metadata": {},
   "outputs": [],
   "source": []
  },
  {
   "cell_type": "code",
   "execution_count": null,
   "metadata": {},
   "outputs": [],
   "source": []
  }
 ],
 "metadata": {
  "kernelspec": {
   "display_name": "Python 3",
   "language": "python",
   "name": "python3"
  },
  "language_info": {
   "codemirror_mode": {
    "name": "ipython",
    "version": 3
   },
   "file_extension": ".py",
   "mimetype": "text/x-python",
   "name": "python",
   "nbconvert_exporter": "python",
   "pygments_lexer": "ipython3",
   "version": "3.8.5"
  }
 },
 "nbformat": 4,
 "nbformat_minor": 4
}
